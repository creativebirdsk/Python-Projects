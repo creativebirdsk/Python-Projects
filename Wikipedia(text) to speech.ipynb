{
 "cells": [
  {
   "cell_type": "code",
   "execution_count": null,
   "metadata": {},
   "outputs": [],
   "source": [
    "import pyttsx3\n",
    "import wikipedia\n",
    "import datetime"
   ]
  },
  {
   "cell_type": "code",
   "execution_count": null,
   "metadata": {},
   "outputs": [],
   "source": [
    "engine = pyttsx3.init()\n",
    "\n",
    "\n",
    "engine.setProperty('rate', 130)    \n",
    "engine.setProperty('volume', 1)  \n",
    "voices=engine.getProperty('voices')\n",
    "engine.setProperty('voice',voices[0].id)\n",
    "\n",
    "def speak(audio):\n",
    "    engine.say(audio)\n",
    "    engine.runAndWait()\n",
    "    \n",
    "def wishme():\n",
    "    hour=int(datetime.datetime.now().hour)\n",
    "    if hour>=0 and hour<12:\n",
    "        speak(\"Good Morning SHUBHAM!\")\n",
    "    \n",
    "    elif hour>12 and hour<5:\n",
    "        speak(\"Good Afternoon SHUBHAM!\")\n",
    "        \n",
    "    else:\n",
    "        speak(\"Good Evening SHUBHAM!\")\n",
    "\n",
    "\n",
    "\n",
    "if __name__ == \"__main__\":\n",
    "    #s=input(\"Enter the string\\t\")\n",
    "    speak(\"Hello\")\n",
    "    wishme()\n",
    "    speak(\"What do u want me to search on wikipedia\")\n",
    "    a=input(\"What to search  :\\t\")\n",
    "    speak('Searching wikipedia for')\n",
    "    speak(a)\n",
    "    a=a.replace(\"wikipedia\",\"\")\n",
    "    results=wikipedia.summary(a, sentences=3)\n",
    "    speak(\"According to wikipedia...\")\n",
    "    print(results)\n",
    "    speak(results)\n",
    "    \n",
    "\n",
    "\n"
   ]
  }
 ],
 "metadata": {
  "kernelspec": {
   "display_name": "Python 3",
   "language": "python",
   "name": "python3"
  },
  "language_info": {
   "codemirror_mode": {
    "name": "ipython",
    "version": 3
   },
   "file_extension": ".py",
   "mimetype": "text/x-python",
   "name": "python",
   "nbconvert_exporter": "python",
   "pygments_lexer": "ipython3",
   "version": "3.7.0"
  }
 },
 "nbformat": 4,
 "nbformat_minor": 2
}
